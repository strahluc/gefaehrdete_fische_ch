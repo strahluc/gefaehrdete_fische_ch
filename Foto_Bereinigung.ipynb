{
 "cells": [
  {
   "cell_type": "code",
   "execution_count": 9,
   "id": "a81ab07a",
   "metadata": {},
   "outputs": [],
   "source": [
    "#convert PNG-files and JPEG-files to JPG-files\n",
    "from glob import glob                                                           \n",
    "import cv2 \n",
    "import os\n",
    "pngs = glob('./**/*.png', recursive=True)\n",
    "\n",
    "for p in pngs:\n",
    "    img = cv2.imread(p)\n",
    "    cv2.imwrite(p[:-3] + 'jpg', img, [int(cv2.IMWRITE_JPEG_QUALITY), 100])\n",
    "    os.remove(p)\n",
    "    \n",
    "jpegs = glob('./**/*.jpeg', recursive=True)\n",
    "\n",
    "for j in jpegs:\n",
    "    img = cv2.imread(j)\n",
    "    cv2.imwrite(j[:-4] + 'jpg', img, [int(cv2.IMWRITE_JPEG_QUALITY), 100])\n",
    "    os.remove(j)"
   ]
  },
  {
   "cell_type": "code",
   "execution_count": null,
   "id": "5674eef3",
   "metadata": {},
   "outputs": [],
   "source": [
    "#convert all JPG-files to real JPG-files\n",
    "from glob import glob                                                           \n",
    "import cv2 \n",
    "import os\n",
    "    \n",
    "jpgs = glob('./**/*.jpg', recursive=True)\n",
    "for jp in jpgs:\n",
    "    img = cv2.imread(jp)\n",
    "    cv2.imwrite(jp[:-4] + 'new.jpg', img, [int(cv2.IMWRITE_JPEG_QUALITY), 100])\n",
    "    os.remove(jp)"
   ]
  },
  {
   "cell_type": "code",
   "execution_count": 16,
   "id": "e8b73ac5",
   "metadata": {},
   "outputs": [],
   "source": [
    "#Remove all other files\n",
    "from glob import glob                                                           \n",
    "import os \n",
    "\n",
    "others = glob('./**/*', recursive=True)\n",
    "\n",
    "for o in others:\n",
    "    if o[1:].__contains__('.') and not o.endswith(\".jpg\") and not o.__contains__('.ipynb'):\n",
    "        print(o)\n",
    "        #os.remove(o)"
   ]
  },
  {
   "cell_type": "code",
   "execution_count": 17,
   "id": "7c80d7ad",
   "metadata": {},
   "outputs": [],
   "source": [
    "#Rename files\n",
    "from glob import glob                                                           \n",
    "import cv2 \n",
    "import os\n",
    "jpgs = glob('./**/*.jpg', recursive=True)\n",
    "\n",
    "start_pos = 2\n",
    "old_folder = \"\"\n",
    "\n",
    "for j in jpgs:\n",
    "    #get path incl. filename\n",
    "    source = j\n",
    "    #get only filename - without ending (.jpg)\n",
    "    origin = os.path.basename(j)[:-4]\n",
    "    #get the end position of the folder name\n",
    "    end_fol_pos = len(source) - (len(origin) + 5)\n",
    "    #get only folder name\n",
    "    folder_name = source[2:end_fol_pos]\n",
    "    if folder_name == old_folder:\n",
    "        count = count + 1\n",
    "    else:\n",
    "        old_folder = folder_name\n",
    "        count = 1    \n",
    "    \n",
    "    new_name = folder_name.replace(\" \",\"_\") + \"_\" + str(count)\n",
    "    destination = j.replace(origin, new_name)\n",
    "    os.rename(source, destination)"
   ]
  },
  {
   "cell_type": "code",
   "execution_count": 18,
   "id": "7ea5b434",
   "metadata": {},
   "outputs": [
    {
     "name": "stdout",
     "output_type": "stream",
     "text": [
      "Ende :)\n"
     ]
    }
   ],
   "source": [
    "#Check if all Images are JPG-Files\n",
    "from pathlib import Path\n",
    "import imghdr\n",
    "\n",
    "data_dir = \"C:/Users/lucas/OneDrive - celaeno/Dokumente/Studium/S7_Integration/Aktueller_test/species_JPG/images_JPG\"\n",
    "image_extensions = [\".png\", \".jpg\"] \n",
    "\n",
    "img_type_accepted_by_tf = [\"bmp\", \"gif\", \"jpeg\", \"png\"]\n",
    "for filepath in Path(data_dir).rglob(\"*\"):\n",
    "    if filepath.suffix.lower() in image_extensions:\n",
    "        img_type = imghdr.what(filepath)\n",
    "        if img_type is None:\n",
    "            print(f\"{filepath} is not an image\")\n",
    "        elif img_type not in img_type_accepted_by_tf:\n",
    "            print(f\"{filepath} is a {img_type}, not accepted by TensorFlow\")\n",
    "print(\"Ende :)\")"
   ]
  }
 ],
 "metadata": {
  "kernelspec": {
   "display_name": "Python 3",
   "language": "python",
   "name": "python3"
  },
  "language_info": {
   "codemirror_mode": {
    "name": "ipython",
    "version": 3
   },
   "file_extension": ".py",
   "mimetype": "text/x-python",
   "name": "python",
   "nbconvert_exporter": "python",
   "pygments_lexer": "ipython3",
   "version": "3.7.8 (tags/v3.7.8:4b47a5b6ba, Jun 28 2020, 08:53:46) [MSC v.1916 64 bit (AMD64)]"
  },
  "vscode": {
   "interpreter": {
    "hash": "0a54084e6b208ee8d1ce3989ffc20924477a5f55f5a43e22e699a6741623861e"
   }
  }
 },
 "nbformat": 4,
 "nbformat_minor": 5
}
