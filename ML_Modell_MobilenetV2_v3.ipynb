{
  "nbformat": 4,
  "nbformat_minor": 0,
  "metadata": {
    "colab": {
      "provenance": [],
      "authorship_tag": "ABX9TyNkJT/8S6BoKECfepY6bJiE",
      "include_colab_link": true
    },
    "kernelspec": {
      "name": "python3",
      "display_name": "Python 3"
    },
    "language_info": {
      "name": "python"
    },
    "accelerator": "GPU",
    "gpuClass": "standard"
  },
  "cells": [
    {
      "cell_type": "markdown",
      "metadata": {
        "id": "view-in-github",
        "colab_type": "text"
      },
      "source": [
        "<a href=\"https://colab.research.google.com/github/zhaw-iwi/FishNET/blob/main/ML_Modell_MobilenetV2_v3.ipynb\" target=\"_parent\"><img src=\"https://colab.research.google.com/assets/colab-badge.svg\" alt=\"Open In Colab\"/></a>"
      ]
    },
    {
      "cell_type": "markdown",
      "source": [
        "Import der einzelnen Bibliotheken"
      ],
      "metadata": {
        "id": "Wp20rpW0x1St"
      }
    },
    {
      "cell_type": "code",
      "execution_count": 31,
      "metadata": {
        "id": "HweI67WmkSlY"
      },
      "outputs": [],
      "source": [
        "import matplotlib.pyplot as plt\n",
        "import numpy as np\n",
        "import os\n",
        "import tensorflow as tf\n",
        "from tensorflow import keras\n",
        "import zipfile\n",
        "from keras import layers\n",
        "#from keras import datasets, layers, models\n",
        "#$ pip install pyyaml h5py\n"
      ]
    },
    {
      "cell_type": "code",
      "source": [
        "from google.colab import drive\n",
        "\n",
        "drive.mount('/content/gdrive/', force_remount=True)"
      ],
      "metadata": {
        "id": "Kz6iPQfUQvpg",
        "outputId": "34f4c875-e995-4022-df00-96924daf7cf8",
        "colab": {
          "base_uri": "https://localhost:8080/"
        }
      },
      "execution_count": 32,
      "outputs": [
        {
          "output_type": "stream",
          "name": "stdout",
          "text": [
            "Mounted at /content/gdrive/\n"
          ]
        }
      ]
    },
    {
      "cell_type": "code",
      "source": [
        " #local_zip = \"/content/gdrive/MyDrive/Daten_Images/images_categorized_8.zip\""
      ],
      "metadata": {
        "id": "w8RTkVcuMKv-"
      },
      "execution_count": null,
      "outputs": []
    },
    {
      "cell_type": "code",
      "source": [
        "\n",
        "#zip_ref = zipfile.ZipFile(local_zip, 'r')\n",
        "#zip_ref.extractall('/content/gdrive/MyDrive/Test')\n",
        "#zip_ref.close()\n"
      ],
      "metadata": {
        "id": "Cb3eYRzq5LcR"
      },
      "execution_count": null,
      "outputs": []
    },
    {
      "cell_type": "code",
      "source": [
        "local_file = '/content/gdrive/MyDrive/Test'"
      ],
      "metadata": {
        "id": "u9AkVRyANw3J"
      },
      "execution_count": 33,
      "outputs": []
    },
    {
      "cell_type": "code",
      "source": [
        "PATH = os.path.join(os.path.dirname(local_file), 'Test')"
      ],
      "metadata": {
        "id": "8PlLrBR0LLNu"
      },
      "execution_count": 34,
      "outputs": []
    },
    {
      "cell_type": "code",
      "source": [
        "raw_dataset = os.path.join(PATH, 'images_categorized_8')"
      ],
      "metadata": {
        "id": "b_jrnxOn0sXe"
      },
      "execution_count": 35,
      "outputs": []
    },
    {
      "cell_type": "code",
      "source": [
        "BATCH_SIZE = 64\n",
        "IMG_SIZE = (224, 224)"
      ],
      "metadata": {
        "id": "F0rtlJcZLtsa"
      },
      "execution_count": 36,
      "outputs": []
    },
    {
      "cell_type": "code",
      "source": [
        "all_dataset = tf.keras.utils.image_dataset_from_directory(raw_dataset,\n",
        "                                                            shuffle=True,\n",
        "                                                            batch_size=BATCH_SIZE,\n",
        "                                                            image_size=IMG_SIZE,\n",
        "                                                            )"
      ],
      "metadata": {
        "colab": {
          "base_uri": "https://localhost:8080/"
        },
        "id": "d5ZZU2DxLxCO",
        "outputId": "8d10d799-94e8-47e5-f5a0-9791287c5db4"
      },
      "execution_count": 37,
      "outputs": [
        {
          "output_type": "stream",
          "name": "stdout",
          "text": [
            "Found 1985 files belonging to 21 classes.\n"
          ]
        }
      ]
    },
    {
      "cell_type": "code",
      "source": [
        "print(all_dataset)"
      ],
      "metadata": {
        "id": "PbAFPLzAoGzN",
        "outputId": "07502d71-ca29-407a-e68b-ad064dab93e8",
        "colab": {
          "base_uri": "https://localhost:8080/"
        }
      },
      "execution_count": null,
      "outputs": [
        {
          "output_type": "stream",
          "name": "stdout",
          "text": [
            "<BatchDataset element_spec=(TensorSpec(shape=(None, 224, 224, 3), dtype=tf.float32, name=None), TensorSpec(shape=(None,), dtype=tf.int32, name=None))>\n"
          ]
        }
      ]
    },
    {
      "cell_type": "code",
      "source": [
        "# class_names = all_dataset.class_names\n",
        "\n",
        "# plt.figure(figsize=(10, 10))\n",
        "# for images, labels in all_dataset.take(1):\n",
        "#   for i in range(9):\n",
        "#     ax = plt.subplot(3, 3, i + 1)\n",
        "#     plt.imshow(images[i].numpy().astype(\"uint8\"))\n",
        "#     plt.title(class_names[labels[i]])\n",
        "#     plt.axis(\"off\")"
      ],
      "metadata": {
        "id": "W1MKauO2M7as"
      },
      "execution_count": null,
      "outputs": []
    },
    {
      "cell_type": "code",
      "source": [
        "val_batches_1 = tf.data.experimental.cardinality(all_dataset)\n",
        "validation_dataset = all_dataset.take(val_batches_1 // 5)\n",
        "train_dataset = all_dataset.skip(val_batches_1 // 5)"
      ],
      "metadata": {
        "id": "F72NpL4wk_7Z"
      },
      "execution_count": 38,
      "outputs": []
    },
    {
      "cell_type": "code",
      "source": [
        "#print(val_batches_1)"
      ],
      "metadata": {
        "id": "Swn_BZHsnwPc",
        "outputId": "342d9b1d-3d18-467b-8f82-d5e39ec79dee",
        "colab": {
          "base_uri": "https://localhost:8080/"
        }
      },
      "execution_count": null,
      "outputs": [
        {
          "output_type": "stream",
          "name": "stdout",
          "text": [
            "tf.Tensor(56, shape=(), dtype=int64)\n"
          ]
        }
      ]
    },
    {
      "cell_type": "code",
      "source": [
        "#print('Number of train batches: %d' % tf.data.experimental.cardinality(train_dataset))\n",
        "#print('Number of test batches: %d' % tf.data.experimental.cardinality(validation_dataset))"
      ],
      "metadata": {
        "colab": {
          "base_uri": "https://localhost:8080/"
        },
        "id": "s0pV5EgDTyZQ",
        "outputId": "8a3236ad-f9bd-416d-f84e-d7d9f051acfb"
      },
      "execution_count": null,
      "outputs": [
        {
          "output_type": "stream",
          "name": "stdout",
          "text": [
            "Number of train batches: 45\n",
            "Number of test batches: 11\n"
          ]
        }
      ]
    },
    {
      "cell_type": "code",
      "source": [
        "AUTOTUNE = tf.data.AUTOTUNE\n",
        "\n",
        "train_dataset = train_dataset.prefetch(buffer_size=AUTOTUNE)\n",
        "validation_dataset = validation_dataset.prefetch(buffer_size=AUTOTUNE)"
      ],
      "metadata": {
        "id": "aHYBqpMfTygf"
      },
      "execution_count": 39,
      "outputs": []
    },
    {
      "cell_type": "markdown",
      "source": [
        "Use data augmentation"
      ],
      "metadata": {
        "id": "ZykilDs2l8-Q"
      }
    },
    {
      "cell_type": "code",
      "source": [
        "\n",
        "# data_augmentation = tf.keras.Sequential(\n",
        "#     [\n",
        "#   layers.RandomFlip('horizontal'),\n",
        "#   layers.RandomRotation(0.2),\n",
        "#   layers.RandomZoom(0.1),\n",
        "#   layers.RandomHeight(0.3),\n",
        "#   layers.RandomWidth(0.3)\n",
        "#   ]\n",
        "#   )"
      ],
      "metadata": {
        "id": "EO2qXYDHTymd"
      },
      "execution_count": null,
      "outputs": []
    },
    {
      "cell_type": "code",
      "source": [
        "#  input_shape_rgb = (224, 224, 3)\n",
        "#  data_augmentation_rgb = tf.keras.Sequential(\n",
        "#    [ \n",
        "#      layers.RandomFlip(\"horizontal\"),\n",
        "#      layers.RandomFlip(\"vertical\"),\n",
        "#      layers.RandomRotation(0.5),\n",
        "#     layers.RandomZoom(0.5),\n",
        "#      layers.RandomContrast(0.5),\n",
        "#    ]\n",
        "#  )"
      ],
      "metadata": {
        "id": "XL9KeSD5jwum"
      },
      "execution_count": null,
      "outputs": []
    },
    {
      "cell_type": "code",
      "source": [
        "# with tf.device('/cpu:0'): data_augmentation_1 = tf.keras.Sequential([\n",
        "#   tf.keras.layers.RandomFlip('horizontal'),\n",
        "#   tf.keras.layers.RandomRotation(0.2),\n",
        "# ])"
      ],
      "metadata": {
        "id": "tF9cWkfLnWey"
      },
      "execution_count": null,
      "outputs": []
    },
    {
      "cell_type": "code",
      "source": [
        "#data_augmentation = data_augmentation_1(train_dataset,training=True)"
      ],
      "metadata": {
        "id": "w-PgEb6Tgq6S"
      },
      "execution_count": null,
      "outputs": []
    },
    {
      "cell_type": "code",
      "source": [
        "# data_augmentation_2 = tf.keras.Sequential(\n",
        "#     [\n",
        "#   layers.RandomZoom(0.1),\n",
        "#   layers.RandomHeight(0.3),\n",
        "#   ]\n",
        "#   )"
      ],
      "metadata": {
        "id": "NjyHmpI6nWpZ"
      },
      "execution_count": null,
      "outputs": []
    },
    {
      "cell_type": "code",
      "source": [
        "# data_augmentation_3 = tf.keras.Sequential(\n",
        "#     [\n",
        "#   layers.RandomWidth(0.3)\n",
        "#   ]\n",
        "#   )"
      ],
      "metadata": {
        "id": "ET7jVZjUnWyR"
      },
      "execution_count": null,
      "outputs": []
    },
    {
      "cell_type": "code",
      "source": [
        " #print(data_augmentation_1)"
      ],
      "metadata": {
        "colab": {
          "base_uri": "https://localhost:8080/"
        },
        "id": "kHnPzq7tJtzY",
        "outputId": "31f1399a-9dd6-4560-8013-a465f9174e5f"
      },
      "execution_count": null,
      "outputs": [
        {
          "output_type": "stream",
          "name": "stdout",
          "text": [
            "<keras.engine.sequential.Sequential object at 0x7f39f651ed30>\n"
          ]
        }
      ]
    },
    {
      "cell_type": "markdown",
      "source": [
        "Custom Data Augmentation"
      ],
      "metadata": {
        "id": "e_l5p2Yd45_e"
      }
    },
    {
      "cell_type": "code",
      "source": [
        "# for image, _ in train_dataset.take(1):\n",
        "#   plt.figure(figsize=(10, 10))\n",
        "#   first_image = image[0]\n",
        "#   for i in range(9):\n",
        "#     ax = plt.subplot(3, 3, i + 1)\n",
        "#     augmented_image = data_augmentation_1(tf.expand_dims(first_image, 0))\n",
        "#     plt.imshow(augmented_image[0] / 255)\n",
        "#     plt.axis('off')"
      ],
      "metadata": {
        "id": "AuJVV7PXTyq9"
      },
      "execution_count": null,
      "outputs": []
    },
    {
      "cell_type": "markdown",
      "source": [
        "Rescale Pixel Values"
      ],
      "metadata": {
        "id": "QvgM3CU8l1wm"
      }
    },
    {
      "cell_type": "code",
      "source": [
        "preprocess_input = tf.keras.applications.mobilenet_v2.preprocess_input"
      ],
      "metadata": {
        "id": "-4lzqe4UTyyK"
      },
      "execution_count": 57,
      "outputs": []
    },
    {
      "cell_type": "code",
      "source": [
        "rescale = tf.keras.layers.Rescaling(1./127.5, offset=-1)"
      ],
      "metadata": {
        "id": "naRNxSlOTy5T"
      },
      "execution_count": 58,
      "outputs": []
    },
    {
      "cell_type": "markdown",
      "source": [
        "Create the base model from the pre-trained convnets"
      ],
      "metadata": {
        "id": "oonFo7QKmy-W"
      }
    },
    {
      "cell_type": "code",
      "source": [
        "# Create the base model from the pre-trained model MobileNet V2\n",
        "IMG_SHAPE = IMG_SIZE + (3,)\n",
        "base_model = tf.keras.applications.MobileNetV2(input_shape=IMG_SHAPE,\n",
        "                                               include_top=False,\n",
        "                                               weights='imagenet')"
      ],
      "metadata": {
        "id": "6Yzc16WfTy8h"
      },
      "execution_count": 59,
      "outputs": []
    },
    {
      "cell_type": "code",
      "source": [
        "image_batch, label_batch = next(iter(train_dataset))\n",
        "feature_batch = base_model(image_batch)\n",
        "print(feature_batch.shape)"
      ],
      "metadata": {
        "colab": {
          "base_uri": "https://localhost:8080/"
        },
        "id": "tj_3wimGTzCQ",
        "outputId": "07ce7e1c-1ef7-492e-fa10-9b7e0031edc8"
      },
      "execution_count": 60,
      "outputs": [
        {
          "output_type": "stream",
          "name": "stdout",
          "text": [
            "(64, 7, 7, 1280)\n"
          ]
        }
      ]
    },
    {
      "cell_type": "markdown",
      "source": [
        "Feature extraction"
      ],
      "metadata": {
        "id": "TTl1QxIZnb3W"
      }
    },
    {
      "cell_type": "markdown",
      "source": [
        "Freeze the convolutional base"
      ],
      "metadata": {
        "id": "zok4NFY9ndJn"
      }
    },
    {
      "cell_type": "code",
      "source": [
        "# Fine-tune from this layer onwards\n",
        "#fine_tune_at = 100\n",
        "\n",
        "# Freeze all the layers before the `fine_tune_at` layer\n",
        "#for layer in base_model.layers[:fine_tune_at]:\n",
        " # layer.trainable = False\n",
        "\n"
      ],
      "metadata": {
        "id": "sHVvkLf3TzEp"
      },
      "execution_count": null,
      "outputs": []
    },
    {
      "cell_type": "code",
      "source": [
        "base_model.trainable = False"
      ],
      "metadata": {
        "id": "YF-K567Bn-l9"
      },
      "execution_count": 61,
      "outputs": []
    },
    {
      "cell_type": "markdown",
      "source": [
        "Important note about BatchNormalization layers"
      ],
      "metadata": {
        "id": "xGKnaoGanlAF"
      }
    },
    {
      "cell_type": "code",
      "source": [
        "# Let's take a look at the base model architecture\n",
        "base_model.summary()"
      ],
      "metadata": {
        "id": "Ry0ZLyzmTzIv"
      },
      "execution_count": null,
      "outputs": []
    },
    {
      "cell_type": "markdown",
      "source": [
        "Add a classification head"
      ],
      "metadata": {
        "id": "u3fBoRTSn4s8"
      }
    },
    {
      "cell_type": "code",
      "source": [
        "global_average_layer = tf.keras.layers.GlobalAveragePooling2D()\n",
        "feature_batch_average = global_average_layer(feature_batch)\n",
        "print(feature_batch_average.shape)"
      ],
      "metadata": {
        "colab": {
          "base_uri": "https://localhost:8080/"
        },
        "id": "NbDiexrWTzMQ",
        "outputId": "8395a67d-b022-4865-bff3-fe556486e017"
      },
      "execution_count": 62,
      "outputs": [
        {
          "output_type": "stream",
          "name": "stdout",
          "text": [
            "(64, 1280)\n"
          ]
        }
      ]
    },
    {
      "cell_type": "code",
      "source": [
        "prediction_layer = tf.keras.layers.Dense(21)\n",
        "prediction_batch = prediction_layer(feature_batch_average)\n",
        "print(prediction_batch.shape)"
      ],
      "metadata": {
        "colab": {
          "base_uri": "https://localhost:8080/"
        },
        "id": "X14w1vEvTzPw",
        "outputId": "d50d41f9-0324-4521-da30-9df3da106ef3"
      },
      "execution_count": 63,
      "outputs": [
        {
          "output_type": "stream",
          "name": "stdout",
          "text": [
            "(64, 21)\n"
          ]
        }
      ]
    },
    {
      "cell_type": "code",
      "source": [
        "inputs = tf.keras.Input(shape=(224, 224, 3))\n",
        "#x = data_augmentation_rgb(inputs)\n",
        "#x = data_augmentation_1(inputs)\n",
        "#x = data_augmentation_2(x)\n",
        "#x = data_augmentation_3(x)\n",
        "x = preprocess_input(inputs)\n",
        "x = base_model(x, training=False)\n",
        "x = layers.Conv2D(1280, (2, 2), activation='relu')(x)\n",
        "x = layers.MaxPooling2D((2, 2))(x)\n",
        "#x = layers.Conv2D(1280, (2, 2), activation='relu')(x)\n",
        "#x = layers.MaxPooling2D((2, 2))(x)\n",
        "\n",
        "\n",
        "x = global_average_layer(x)\n",
        "x = layers.Flatten()(x)\n",
        "#x = tf.keras.layers.Dropout(0.2)(x)\n",
        "#x = tf.keras.layers.Dense(1280)(x)\n",
        "#x = tf.keras.layers.Dropout(0.2)(x)\n",
        "#x = tf.keras.layers.Dense(1280)(x)\n",
        "x = tf.keras.layers.Dropout(0.2)(x)\n",
        "x = tf.keras.layers.Dense(1280)(x)\n",
        "x = tf.keras.layers.Dropout(0.2)(x)\n",
        "outputs = prediction_layer(x)\n",
        "model = tf.keras.Model(inputs, outputs)\n",
        "\n"
      ],
      "metadata": {
        "id": "HgCRND4KTzUB"
      },
      "execution_count": 82,
      "outputs": []
    },
    {
      "cell_type": "markdown",
      "source": [
        "Compile the model"
      ],
      "metadata": {
        "id": "F0PdpMruomf9"
      }
    },
    {
      "cell_type": "code",
      "source": [
        "base_learning_rate = 0.0001\n",
        "model.compile(optimizer=tf.keras.optimizers.Adam(),#learning_rate=base_learning_rate\n",
        "              loss=tf.keras.losses.SparseCategoricalCrossentropy(from_logits=True),\n",
        "              metrics=['accuracy'])"
      ],
      "metadata": {
        "id": "RLWqqms_TzZx"
      },
      "execution_count": 83,
      "outputs": []
    },
    {
      "cell_type": "code",
      "source": [
        "model.summary()"
      ],
      "metadata": {
        "id": "EQGJhnXMTzeS"
      },
      "execution_count": null,
      "outputs": []
    },
    {
      "cell_type": "code",
      "source": [
        "len(model.trainable_variables)"
      ],
      "metadata": {
        "colab": {
          "base_uri": "https://localhost:8080/"
        },
        "id": "qh8zmB75Tzhu",
        "outputId": "1d4c2b33-1a50-4a31-95b6-4c8199d6c351"
      },
      "execution_count": 84,
      "outputs": [
        {
          "output_type": "execute_result",
          "data": {
            "text/plain": [
              "6"
            ]
          },
          "metadata": {},
          "execution_count": 84
        }
      ]
    },
    {
      "cell_type": "markdown",
      "source": [
        "Train the model"
      ],
      "metadata": {
        "id": "mcjF_pwupE6j"
      }
    },
    {
      "cell_type": "code",
      "source": [
        "initial_epochs = 10\n",
        "\n",
        "loss0, accuracy0 = model.evaluate(validation_dataset)"
      ],
      "metadata": {
        "id": "fi28KTlLTzmK",
        "colab": {
          "base_uri": "https://localhost:8080/"
        },
        "outputId": "b20d68a7-c007-4683-c8cf-e99771987b73"
      },
      "execution_count": 85,
      "outputs": [
        {
          "output_type": "stream",
          "name": "stdout",
          "text": [
            "6/6 [==============================] - 11s 773ms/step - loss: 4.0802 - accuracy: 0.0599\n"
          ]
        }
      ]
    },
    {
      "cell_type": "code",
      "source": [
        "print(\"initial loss: {:.2f}\".format(loss0))\n",
        "print(\"initial accuracy: {:.2f}\".format(accuracy0))"
      ],
      "metadata": {
        "colab": {
          "base_uri": "https://localhost:8080/"
        },
        "id": "WRnfV-Wgo6R6",
        "outputId": "98a3f5e6-709d-40e6-af8c-1020b96cfdee"
      },
      "execution_count": 86,
      "outputs": [
        {
          "output_type": "stream",
          "name": "stdout",
          "text": [
            "initial loss: 4.08\n",
            "initial accuracy: 0.06\n"
          ]
        }
      ]
    },
    {
      "cell_type": "code",
      "source": [
        "history = model.fit(train_dataset,\n",
        "                    epochs=initial_epochs,\n",
        "                    validation_data=validation_dataset,\n",
        "                    )"
      ],
      "metadata": {
        "id": "nzY5H0TzM2dM",
        "colab": {
          "base_uri": "https://localhost:8080/"
        },
        "outputId": "35219653-d3cd-476b-9aa5-5b6c7184d2d8"
      },
      "execution_count": 87,
      "outputs": [
        {
          "output_type": "stream",
          "name": "stdout",
          "text": [
            "Epoch 1/10\n",
            "26/26 [==============================] - 35s 888ms/step - loss: 7.1525 - accuracy: 0.2280 - val_loss: 1.9736 - val_accuracy: 0.4010\n",
            "Epoch 2/10\n",
            "26/26 [==============================] - 32s 863ms/step - loss: 1.6993 - accuracy: 0.4453 - val_loss: 1.2625 - val_accuracy: 0.5651\n",
            "Epoch 3/10\n",
            "26/26 [==============================] - 31s 854ms/step - loss: 1.1866 - accuracy: 0.6090 - val_loss: 1.0159 - val_accuracy: 0.6901\n",
            "Epoch 4/10\n",
            "26/26 [==============================] - 33s 913ms/step - loss: 0.9309 - accuracy: 0.6858 - val_loss: 0.6895 - val_accuracy: 0.7734\n",
            "Epoch 5/10\n",
            "26/26 [==============================] - 32s 870ms/step - loss: 0.6656 - accuracy: 0.7814 - val_loss: 0.6524 - val_accuracy: 0.7786\n",
            "Epoch 6/10\n",
            "26/26 [==============================] - 31s 856ms/step - loss: 0.5397 - accuracy: 0.8276 - val_loss: 0.4716 - val_accuracy: 0.8438\n",
            "Epoch 7/10\n",
            "26/26 [==============================] - 31s 852ms/step - loss: 0.3897 - accuracy: 0.8801 - val_loss: 0.3645 - val_accuracy: 0.8958\n",
            "Epoch 8/10\n",
            "26/26 [==============================] - 32s 869ms/step - loss: 0.2940 - accuracy: 0.9101 - val_loss: 0.2775 - val_accuracy: 0.9115\n",
            "Epoch 9/10\n",
            "26/26 [==============================] - 31s 858ms/step - loss: 0.2239 - accuracy: 0.9300 - val_loss: 0.2274 - val_accuracy: 0.9401\n",
            "Epoch 10/10\n",
            "26/26 [==============================] - 33s 911ms/step - loss: 0.1794 - accuracy: 0.9425 - val_loss: 0.1585 - val_accuracy: 0.9557\n"
          ]
        }
      ]
    },
    {
      "cell_type": "code",
      "source": [
        "!mkdir -p saved_model\n",
        "model.save('/content/gdrive/MyDrive/Test/trained_model.h5')"
      ],
      "metadata": {
        "id": "vLqXEs7nAp12"
      },
      "execution_count": 90,
      "outputs": []
    },
    {
      "cell_type": "code",
      "source": [
        "# checkpoint_path = \"/content/gdrive/MyDrive/Test/trained_weights.ckpt\"\n",
        "# checkpoint_dir = os.path.dirname(checkpoint_path)\n",
        "\n",
        "# # Create a callback that saves the model's weights\n",
        "# cp_callback = tf.keras.callbacks.ModelCheckpoint(filepath=checkpoint_path,\n",
        "#                                                  save_weights_only=True,\n",
        "#                                                  verbose=1)\n",
        "\n",
        "# history = model.fit(train_dataset,\n",
        "#                     epochs=initial_epochs,\n",
        "#                     validation_data=validation_dataset,\n",
        "#                     callbacks=[cp_callback]) # Pass callback to training)\n",
        "\n",
        "                         "
      ],
      "metadata": {
        "id": "4JolcFCao6Vx"
      },
      "execution_count": null,
      "outputs": []
    },
    {
      "cell_type": "code",
      "source": [
        "loss, acc = model.evaluate(validation_dataset, verbose=2)\n",
        "print('Restored model, accuracy: {:5.2f}%'.format(100 * acc))"
      ],
      "metadata": {
        "id": "-GhF9ES9TC75",
        "colab": {
          "base_uri": "https://localhost:8080/"
        },
        "outputId": "5135b5ba-47c6-4cbd-dfa4-9bd03bc523b1"
      },
      "execution_count": 88,
      "outputs": [
        {
          "output_type": "stream",
          "name": "stdout",
          "text": [
            "6/6 - 10s - loss: 0.1332 - accuracy: 0.9635 - 10s/epoch - 2s/step\n",
            "Restored model, accuracy: 96.35%\n"
          ]
        }
      ]
    },
    {
      "cell_type": "code",
      "source": [
        "acc = history.history['accuracy']\n",
        "val_acc = history.history['val_accuracy']\n",
        "\n",
        "loss = history.history['loss']\n",
        "val_loss = history.history['val_loss']\n",
        "\n",
        "plt.figure(figsize=(8, 8))\n",
        "plt.subplot(2, 1, 1)\n",
        "plt.plot(acc, label='Training Accuracy')\n",
        "plt.plot(val_acc, label='Validation Accuracy')\n",
        "plt.legend(loc='lower right')\n",
        "plt.ylabel('Accuracy')\n",
        "plt.ylim([min(plt.ylim()),1])\n",
        "plt.title('Training and Validation Accuracy')\n",
        "\n",
        "plt.subplot(2, 1, 2)\n",
        "plt.plot(loss, label='Training Loss')\n",
        "plt.plot(val_loss, label='Validation Loss')\n",
        "plt.legend(loc='upper right')\n",
        "plt.ylabel('Cross Entropy')\n",
        "plt.ylim([0,1.0])\n",
        "plt.title('Training and Validation Loss')\n",
        "plt.xlabel('epoch')\n",
        "plt.show()"
      ],
      "metadata": {
        "id": "dwda0-BBo6aQ",
        "colab": {
          "base_uri": "https://localhost:8080/",
          "height": 513
        },
        "outputId": "69957e3b-6891-4ea2-d579-3a4f615d2263"
      },
      "execution_count": 89,
      "outputs": [
        {
          "output_type": "display_data",
          "data": {
            "text/plain": [
              "<Figure size 576x576 with 2 Axes>"
            ],
            "image/png": "[encoded data removed]"
          },
          "metadata": {
            "needs_background": "light"
          }
        }
      ]
    },
    {
      "cell_type": "code",
      "source": [
        "# Retrieve a batch of images from the test set\n",
        "image_batch, label_batch = validation_dataset.as_numpy_iterator().next()\n",
        "predictions = model.predict_on_batch(image_batch).flatten()\n",
        "\n",
        "# Apply a sigmoid since our model returns logits\n",
        "predictions = tf.nn.sigmoid(predictions)\n",
        "predictions = tf.where(predictions < 0.5, 0, 1)\n",
        "\n",
        "print('Predictions:\\n', predictions.numpy())\n",
        "print('Labels:\\n', label_batch)\n",
        "\n",
        "plt.figure(figsize=(10, 10))\n",
        "for i in range(9):\n",
        "  ax = plt.subplot(3, 3, i + 1)\n",
        "  plt.imshow(image_batch[i].astype(\"uint8\"))\n",
        "  plt.title(class_names[predictions[i]])\n",
        "  plt.axis(\"off\")"
      ],
      "metadata": {
        "id": "mUnYPGDXUOiq",
        "colab": {
          "base_uri": "https://localhost:8080/",
          "height": 511
        },
        "outputId": "7babba03-0e29-4b1a-c7ac-1acd2657e7f6"
      },
      "execution_count": null,
      "outputs": [
        {
          "output_type": "stream",
          "name": "stdout",
          "text": [
            "Predictions:\n",
            " [1 0 1 ... 1 0 1]\n",
            "Labels:\n",
            " [ 2 15  7  7  9 16  6  6 14  0  3  1 10 10 19 15  0  6 18 17 17 17  6  9\n",
            "  6  5 19 11  7  6  9 17  8 10  4 10  9  9  7 15  7  4  8 16  0 19  1 13\n",
            "  0  2 11  2  6  9  8 13 16 17 13 10  8  2 17  8]\n"
          ]
        },
        {
          "output_type": "error",
          "ename": "NameError",
          "evalue": "ignored",
          "traceback": [
            "\u001b[0;31m---------------------------------------------------------------------------\u001b[0m",
            "\u001b[0;31mNameError\u001b[0m                                 Traceback (most recent call last)",
            "\u001b[0;32m<ipython-input-55-f149e0981c25>\u001b[0m in \u001b[0;36m<module>\u001b[0;34m\u001b[0m\n\u001b[1;32m     14\u001b[0m   \u001b[0max\u001b[0m \u001b[0;34m=\u001b[0m \u001b[0mplt\u001b[0m\u001b[0;34m.\u001b[0m\u001b[0msubplot\u001b[0m\u001b[0;34m(\u001b[0m\u001b[0;36m3\u001b[0m\u001b[0;34m,\u001b[0m \u001b[0;36m3\u001b[0m\u001b[0;34m,\u001b[0m \u001b[0mi\u001b[0m \u001b[0;34m+\u001b[0m \u001b[0;36m1\u001b[0m\u001b[0;34m)\u001b[0m\u001b[0;34m\u001b[0m\u001b[0;34m\u001b[0m\u001b[0m\n\u001b[1;32m     15\u001b[0m   \u001b[0mplt\u001b[0m\u001b[0;34m.\u001b[0m\u001b[0mimshow\u001b[0m\u001b[0;34m(\u001b[0m\u001b[0mimage_batch\u001b[0m\u001b[0;34m[\u001b[0m\u001b[0mi\u001b[0m\u001b[0;34m]\u001b[0m\u001b[0;34m.\u001b[0m\u001b[0mastype\u001b[0m\u001b[0;34m(\u001b[0m\u001b[0;34m\"uint8\"\u001b[0m\u001b[0;34m)\u001b[0m\u001b[0;34m)\u001b[0m\u001b[0;34m\u001b[0m\u001b[0;34m\u001b[0m\u001b[0m\n\u001b[0;32m---> 16\u001b[0;31m   \u001b[0mplt\u001b[0m\u001b[0;34m.\u001b[0m\u001b[0mtitle\u001b[0m\u001b[0;34m(\u001b[0m\u001b[0mclass_names\u001b[0m\u001b[0;34m[\u001b[0m\u001b[0mpredictions\u001b[0m\u001b[0;34m[\u001b[0m\u001b[0mi\u001b[0m\u001b[0;34m]\u001b[0m\u001b[0;34m]\u001b[0m\u001b[0;34m)\u001b[0m\u001b[0;34m\u001b[0m\u001b[0;34m\u001b[0m\u001b[0m\n\u001b[0m\u001b[1;32m     17\u001b[0m   \u001b[0mplt\u001b[0m\u001b[0;34m.\u001b[0m\u001b[0maxis\u001b[0m\u001b[0;34m(\u001b[0m\u001b[0;34m\"off\"\u001b[0m\u001b[0;34m)\u001b[0m\u001b[0;34m\u001b[0m\u001b[0;34m\u001b[0m\u001b[0m\n",
            "\u001b[0;31mNameError\u001b[0m: name 'class_names' is not defined"
          ]
        },
        {
          "output_type": "display_data",
          "data": {
            "text/plain": [
              "<Figure size 720x720 with 1 Axes>"
            ],
            "image/png": "[encoded data removed]"
          },
          "metadata": {
            "needs_background": "light"
          }
        }
      ]
    },
    {
      "cell_type": "markdown",
      "source": [
        "Testing load saved Model from Google Drive"
      ],
      "metadata": {
        "id": "cQxuDCo9P4-g"
      }
    },
    {
      "cell_type": "code",
      "source": [
        "# Recreate the exact same model, including its weights and the optimizer\n",
        "new_model = tf.keras.models.load_model('/content/gdrive/MyDrive/Test/trained_model.h5')\n",
        "\n",
        "# Show the model architecture\n",
        "new_model.summary()"
      ],
      "metadata": {
        "id": "yDkq1Zn-P31O",
        "colab": {
          "base_uri": "https://localhost:8080/"
        },
        "outputId": "45f715b2-20bd-4e87-e0e3-98c64dda4ce1"
      },
      "execution_count": null,
      "outputs": [
        {
          "output_type": "stream",
          "name": "stdout",
          "text": [
            "Model: \"model\"\n",
            "_________________________________________________________________\n",
            " Layer (type)                Output Shape              Param #   \n",
            "=================================================================\n",
            " input_2 (InputLayer)        [(None, 224, 224, 3)]     0         \n",
            "                                                                 \n",
            " sequential (Sequential)     (None, 224, 224, 3)       0         \n",
            "                                                                 \n",
            " tf.math.truediv (TFOpLambda  (None, 224, 224, 3)      0         \n",
            " )                                                               \n",
            "                                                                 \n",
            " tf.math.subtract (TFOpLambd  (None, 224, 224, 3)      0         \n",
            " a)                                                              \n",
            "                                                                 \n",
            " mobilenetv2_1.00_224 (Funct  (None, 7, 7, 1280)       2257984   \n",
            " ional)                                                          \n",
            "                                                                 \n",
            " global_average_pooling2d (G  (None, 1280)             0         \n",
            " lobalAveragePooling2D)                                          \n",
            "                                                                 \n",
            " dropout (Dropout)           (None, 1280)              0         \n",
            "                                                                 \n",
            " dense (Dense)               (None, 21)                26901     \n",
            "                                                                 \n",
            "=================================================================\n",
            "Total params: 2,284,885\n",
            "Trainable params: 26,901\n",
            "Non-trainable params: 2,257,984\n",
            "_________________________________________________________________\n"
          ]
        }
      ]
    },
    {
      "cell_type": "code",
      "source": [
        "loss, acc = new_model.evaluate(validation_dataset, verbose=2)\n",
        "print('Restored model, accuracy: {:5.2f}%'.format(100 * acc))"
      ],
      "metadata": {
        "id": "AgqL0WFgP_ei",
        "colab": {
          "base_uri": "https://localhost:8080/"
        },
        "outputId": "626eaf84-3fe3-4926-f561-0ac5c02af0eb"
      },
      "execution_count": null,
      "outputs": [
        {
          "output_type": "stream",
          "name": "stdout",
          "text": [
            "11/11 - 7s - loss: 0.8722 - accuracy: 0.7216 - 7s/epoch - 665ms/step\n",
            "Restored model, accuracy: 72.16%\n"
          ]
        }
      ]
    },
    {
      "cell_type": "code",
      "source": [
        "# new_model.redict() --> was ist das?"
      ],
      "metadata": {
        "id": "af36Nhdv0QXJ"
      },
      "execution_count": null,
      "outputs": []
    }
  ]
}